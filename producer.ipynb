{
 "cells": [
  {
   "cell_type": "code",
   "execution_count": 1,
   "id": "14c4e156",
   "metadata": {},
   "outputs": [],
   "source": [
    "import time\n",
    "from confluent_kafka import Producer  "
   ]
  },
  {
   "cell_type": "code",
   "execution_count": 2,
   "id": "a317f39a",
   "metadata": {},
   "outputs": [],
   "source": [
    "def producer_do():\n",
    "    \n",
    "    producer = Producer({'bootstrap.servers': 'localhost:9092'}) \n",
    "\n",
    "    # read the file into list\n",
    "    path = 'Romeo and Juliet.txt'\n",
    "    file = open(path, \"r\")    \n",
    "    content_list = file.readlines()  \n",
    "    \n",
    "    # iterate every 100 lines\n",
    "    for i in range(0, len(content_list), 100):\n",
    "        batch = content_list[i:i+100]        \n",
    "        # send the batch to the Kafka\n",
    "        for line in batch:\n",
    "            producer.produce('RomeoAndJuliet', key='some_key', value=line)\n",
    "        \n",
    "        # sleep for 2 seconds\n",
    "        time.sleep(2)\n",
    "        "
   ]
  },
  {
   "cell_type": "code",
   "execution_count": 3,
   "id": "4bd9514b",
   "metadata": {},
   "outputs": [],
   "source": [
    "# run the producer\n",
    "producer_do()"
   ]
  }
 ],
 "metadata": {
  "kernelspec": {
   "display_name": "Python 3",
   "language": "python",
   "name": "python3"
  },
  "language_info": {
   "codemirror_mode": {
    "name": "ipython",
    "version": 3
   },
   "file_extension": ".py",
   "mimetype": "text/x-python",
   "name": "python",
   "nbconvert_exporter": "python",
   "pygments_lexer": "ipython3",
   "version": "3.8.8"
  }
 },
 "nbformat": 4,
 "nbformat_minor": 5
}
