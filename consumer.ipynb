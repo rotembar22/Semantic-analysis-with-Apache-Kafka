{
 "cells": [
  {
   "cell_type": "code",
   "execution_count": 1,
   "id": "398e5e18",
   "metadata": {},
   "outputs": [
    {
     "name": "stdout",
     "output_type": "stream",
     "text": [
      "Requirement already satisfied: confluent-kafka in /home/linuxu/anaconda3/lib/python3.8/site-packages (1.7.0)\r\n"
     ]
    }
   ],
   "source": [
    "!pip install confluent-kafka"
   ]
  },
  {
   "cell_type": "code",
   "execution_count": 2,
   "id": "d20b43ef",
   "metadata": {},
   "outputs": [],
   "source": [
    "from confluent_kafka import Consumer\n",
    "from time import time, sleep"
   ]
  },
  {
   "cell_type": "code",
   "execution_count": 3,
   "id": "96372878",
   "metadata": {},
   "outputs": [],
   "source": [
    "conf = {'bootstrap.servers': \"localhost:9092\",\n",
    "        'group.id': \"foo\",\n",
    "        'auto.offset.reset': 'smallest'}\n",
    "\n",
    "# Define a consumer\n",
    "consumer = Consumer(conf)"
   ]
  },
  {
   "cell_type": "code",
   "execution_count": 4,
   "id": "eef22402",
   "metadata": {},
   "outputs": [],
   "source": [
    "running = True\n",
    "\n",
    "def consumer_run(consumer, topics):\n",
    "    try:        \n",
    "        consumer.subscribe(topics)\n",
    "        \n",
    "        start_time = time()\n",
    "        time_interval = 2\n",
    "\n",
    "        index = 1\n",
    "        batch = []\n",
    "        \n",
    "        while (running):         \n",
    "            msg = consumer.poll(timeout=3.0)            \n",
    "            \n",
    "            elapsed_time = time() - start_time\n",
    "    \n",
    "            # Sample every 2 seconds\n",
    "            if (elapsed_time >= time_interval):  \n",
    "                \n",
    "                # Create new txt file\n",
    "                if len(batch) > 0:                    \n",
    "                    file_name = 'RandJ.part' + str(index)+'.txt'\n",
    "                    print(\"{}  with {} lines\".format(file_name, len(batch)))\n",
    "\n",
    "                    path_name = os.path.join('Files/', file_name)\n",
    "                    with open(path_name, 'w') as f:\n",
    "                        for item in batch:\n",
    "                            f.write(\"%s\\n\" % item)\n",
    "                            \n",
    "                    \n",
    "                    batch = []\n",
    "                    index +=1\n",
    "                \n",
    "                start_time = time()  \n",
    "                \n",
    "            if msg is None: continue\n",
    "\n",
    "            if msg.error():\n",
    "                if msg.error().code() == KafkaError._PARTITION_EOF:\n",
    "                    # End of partition event\n",
    "                    sys.stderr.write('%% %s [%d] reached end at offset %d\\n' %\n",
    "                                     (msg.topic(), msg.partition(), msg.offset()))\n",
    "                elif msg.error():\n",
    "                    raise KafkaException(msg.error())\n",
    "            else:\n",
    "                batch.append(msg.value().decode('utf-8'))\n",
    "                \n",
    "    finally:\n",
    "        # Close down consumer to commit final offsets.\n",
    "        consumer.close()\n",
    "\n",
    "def shutdown():\n",
    "    running = False"
   ]
  },
  {
   "cell_type": "code",
   "execution_count": null,
   "id": "ec720d83",
   "metadata": {},
   "outputs": [
    {
     "name": "stdout",
     "output_type": "stream",
     "text": [
      "RandJ.part1.txt  with 2152 lines\n",
      "RandJ.part2.txt  with 200 lines\n",
      "RandJ.part3.txt  with 200 lines\n",
      "RandJ.part4.txt  with 100 lines\n",
      "RandJ.part5.txt  with 100 lines\n",
      "RandJ.part6.txt  with 100 lines\n",
      "RandJ.part7.txt  with 100 lines\n",
      "RandJ.part8.txt  with 100 lines\n",
      "RandJ.part9.txt  with 100 lines\n",
      "RandJ.part10.txt  with 100 lines\n",
      "RandJ.part11.txt  with 100 lines\n",
      "RandJ.part12.txt  with 100 lines\n",
      "RandJ.part13.txt  with 100 lines\n",
      "RandJ.part14.txt  with 100 lines\n",
      "RandJ.part15.txt  with 100 lines\n",
      "RandJ.part16.txt  with 100 lines\n",
      "RandJ.part17.txt  with 100 lines\n",
      "RandJ.part18.txt  with 100 lines\n",
      "RandJ.part19.txt  with 100 lines\n",
      "RandJ.part20.txt  with 112 lines\n",
      "RandJ.part21.txt  with 88 lines\n",
      "RandJ.part22.txt  with 100 lines\n",
      "RandJ.part23.txt  with 100 lines\n",
      "RandJ.part24.txt  with 200 lines\n",
      "RandJ.part25.txt  with 200 lines\n",
      "RandJ.part26.txt  with 100 lines\n",
      "RandJ.part27.txt  with 100 lines\n",
      "RandJ.part28.txt  with 100 lines\n",
      "RandJ.part29.txt  with 100 lines\n",
      "RandJ.part30.txt  with 200 lines\n",
      "RandJ.part31.txt  with 100 lines\n",
      "RandJ.part32.txt  with 100 lines\n",
      "RandJ.part33.txt  with 100 lines\n",
      "RandJ.part34.txt  with 100 lines\n",
      "RandJ.part35.txt  with 100 lines\n",
      "RandJ.part36.txt  with 100 lines\n",
      "RandJ.part37.txt  with 200 lines\n",
      "RandJ.part38.txt  with 100 lines\n",
      "RandJ.part39.txt  with 123 lines\n",
      "RandJ.part40.txt  with 77 lines\n",
      "RandJ.part41.txt  with 100 lines\n",
      "RandJ.part42.txt  with 100 lines\n",
      "RandJ.part43.txt  with 53 lines\n"
     ]
    }
   ],
   "source": [
    "\n",
    "# Run the main loop function\n",
    "consumer_run(consumer, ['RomeoAndJuliet'])"
   ]
  }
 ],
 "metadata": {
  "kernelspec": {
   "display_name": "Python 3",
   "language": "python",
   "name": "python3"
  },
  "language_info": {
   "codemirror_mode": {
    "name": "ipython",
    "version": 3
   },
   "file_extension": ".py",
   "mimetype": "text/x-python",
   "name": "python",
   "nbconvert_exporter": "python",
   "pygments_lexer": "ipython3",
   "version": "3.8.8"
  }
 },
 "nbformat": 4,
 "nbformat_minor": 5
}
