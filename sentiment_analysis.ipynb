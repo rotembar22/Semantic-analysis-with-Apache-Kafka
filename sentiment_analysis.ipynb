{
 "cells": [
  {
   "cell_type": "code",
   "execution_count": 1,
   "id": "e271bc63",
   "metadata": {},
   "outputs": [],
   "source": [
    " # Create dictionary from AFINN txt file\n",
    "afinn_dict = {}\n",
    "with open(\"AFINN-111.txt\") as f:\n",
    "    for line in f:\n",
    "        values = line.split()\n",
    "        key = ' '.join(values[0:-1])\n",
    "        afinn_dict[key] = int(values[-1])"
   ]
  },
  {
   "cell_type": "code",
   "execution_count": 12,
   "id": "b270b114",
   "metadata": {},
   "outputs": [],
   "source": [
    "# Load all the txt files names\n",
    "from os import walk\n",
    "\n",
    "f = []\n",
    "for (dirpath, dirnames, filenames) in walk('Files/'):\n",
    "    f.extend(filenames)\n",
    "    break\n",
    "filenames.sort()"
   ]
  },
  {
   "cell_type": "code",
   "execution_count": 5,
   "id": "8fb12ba4",
   "metadata": {},
   "outputs": [],
   "source": [
    "import sys \n",
    "from pyspark import SparkContext\n",
    " \n",
    "# Create sparkcontest streaming\n",
    "sc = SparkContext(\"local[2]\", \"sentiment_analysis\")\n"
   ]
  },
  {
   "cell_type": "code",
   "execution_count": 14,
   "id": "1b11edd8",
   "metadata": {},
   "outputs": [
    {
     "name": "stdout",
     "output_type": "stream",
     "text": [
      "Batch file:RandJ.part1.txt . Sentiment analysis total value:8 \n",
      "Batch file:RandJ.part10.txt . Sentiment analysis total value:26 \n",
      "Batch file:RandJ.part11.txt . Sentiment analysis total value:35 \n",
      "Batch file:RandJ.part12.txt . Sentiment analysis total value:0 \n",
      "Batch file:RandJ.part13.txt . Sentiment analysis total value:41 \n",
      "Batch file:RandJ.part14.txt . Sentiment analysis total value:32 \n",
      "Batch file:RandJ.part15.txt . Sentiment analysis total value:62 \n",
      "Batch file:RandJ.part16.txt . Sentiment analysis total value:20 \n",
      "Batch file:RandJ.part17.txt . Sentiment analysis total value:10 \n",
      "Batch file:RandJ.part18.txt . Sentiment analysis total value:22 \n",
      "Batch file:RandJ.part19.txt . Sentiment analysis total value:30 \n",
      "Batch file:RandJ.part2.txt . Sentiment analysis total value:-17 \n",
      "Batch file:RandJ.part20.txt . Sentiment analysis total value:30 \n",
      "Batch file:RandJ.part21.txt . Sentiment analysis total value:19 \n",
      "Batch file:RandJ.part22.txt . Sentiment analysis total value:-7 \n",
      "Batch file:RandJ.part23.txt . Sentiment analysis total value:22 \n",
      "Batch file:RandJ.part24.txt . Sentiment analysis total value:-47 \n",
      "Batch file:RandJ.part25.txt . Sentiment analysis total value:24 \n",
      "Batch file:RandJ.part26.txt . Sentiment analysis total value:5 \n",
      "Batch file:RandJ.part27.txt . Sentiment analysis total value:-18 \n",
      "Batch file:RandJ.part28.txt . Sentiment analysis total value:30 \n",
      "Batch file:RandJ.part29.txt . Sentiment analysis total value:23 \n",
      "Batch file:RandJ.part3.txt . Sentiment analysis total value:-5 \n",
      "Batch file:RandJ.part30.txt . Sentiment analysis total value:1 \n",
      "Batch file:RandJ.part31.txt . Sentiment analysis total value:0 \n",
      "Batch file:RandJ.part32.txt . Sentiment analysis total value:-17 \n",
      "Batch file:RandJ.part33.txt . Sentiment analysis total value:-7 \n",
      "Batch file:RandJ.part34.txt . Sentiment analysis total value:11 \n",
      "Batch file:RandJ.part35.txt . Sentiment analysis total value:-8 \n",
      "Batch file:RandJ.part36.txt . Sentiment analysis total value:-18 \n",
      "Batch file:RandJ.part37.txt . Sentiment analysis total value:-16 \n",
      "Batch file:RandJ.part38.txt . Sentiment analysis total value:-20 \n",
      "Batch file:RandJ.part39.txt . Sentiment analysis total value:-9 \n",
      "Batch file:RandJ.part4.txt . Sentiment analysis total value:23 \n",
      "Batch file:RandJ.part40.txt . Sentiment analysis total value:17 \n",
      "Batch file:RandJ.part41.txt . Sentiment analysis total value:-9 \n",
      "Batch file:RandJ.part42.txt . Sentiment analysis total value:11 \n",
      "Batch file:RandJ.part43.txt . Sentiment analysis total value:2 \n",
      "Batch file:RandJ.part5.txt . Sentiment analysis total value:27 \n",
      "Batch file:RandJ.part6.txt . Sentiment analysis total value:14 \n",
      "Batch file:RandJ.part7.txt . Sentiment analysis total value:39 \n",
      "Batch file:RandJ.part8.txt . Sentiment analysis total value:2 \n",
      "Batch file:RandJ.part9.txt . Sentiment analysis total value:19 \n"
     ]
    }
   ],
   "source": [
    "# run over the txt files\n",
    "for file_name in filenames:\n",
    "    \n",
    "    # Load each file to rdd\n",
    "    lines = sc.textFile(\"Files/\"+ file_name)\n",
    "    \n",
    "    # Convert to Bag Of Words RDD\n",
    "    batch=lines.flatMap(lambda x: x.split())\n",
    "\n",
    "\n",
    "    # Calculate the sentiment value for each batch   \n",
    "    total_sentiment_batch=0        \n",
    "    # print the list\n",
    "    for word in batch.collect():\n",
    "        if word in afinn_dict:\n",
    "            total_sentiment_batch+=afinn_dict[word]\n",
    "            \n",
    "    print(\"Batch file:{} . Sentiment analysis total value:{} \".format(file_name, total_sentiment_batch))"
   ]
  }
 ],
 "metadata": {
  "kernelspec": {
   "display_name": "Python 3",
   "language": "python",
   "name": "python3"
  },
  "language_info": {
   "codemirror_mode": {
    "name": "ipython",
    "version": 3
   },
   "file_extension": ".py",
   "mimetype": "text/x-python",
   "name": "python",
   "nbconvert_exporter": "python",
   "pygments_lexer": "ipython3",
   "version": "3.8.8"
  }
 },
 "nbformat": 4,
 "nbformat_minor": 5
}
